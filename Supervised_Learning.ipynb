{
 "nbformat": 4,
 "nbformat_minor": 2,
 "metadata": {
  "language_info": {
   "name": "python",
   "codemirror_mode": {
    "name": "ipython",
    "version": 3
   },
   "version": "3.6.8"
  },
  "orig_nbformat": 2,
  "file_extension": ".py",
  "mimetype": "text/x-python",
  "name": "python",
  "npconvert_exporter": "python",
  "pygments_lexer": "ipython3",
  "version": 3
 },
 "cells": [
  {
   "cell_type": "code",
   "execution_count": 4,
   "metadata": {},
   "outputs": [
    {
     "name": "stdout",
     "output_type": "stream",
     "text": "Requirement already satisfied: jupyter in /home/omorales/Documents/projects/python/machinelearning/machinelearning/lib/python3.6/site-packages (1.0.0)\nCollecting numpy\n  Downloading numpy-1.18.1-cp36-cp36m-manylinux1_x86_64.whl (20.1 MB)\n\u001b[K     |████████████████████████████████| 20.1 MB 5.1 MB/s \n\u001b[?25hCollecting scipy\n  Downloading scipy-1.4.1-cp36-cp36m-manylinux1_x86_64.whl (26.1 MB)\n\u001b[K     |████████████████████████████████| 26.1 MB 5.0 MB/s \n\u001b[?25hCollecting matplotlib\n  Downloading matplotlib-3.1.3-cp36-cp36m-manylinux1_x86_64.whl (13.1 MB)\n\u001b[K     |████████████████████████████████| 13.1 MB 5.0 MB/s \n\u001b[?25hRequirement already satisfied: ipython in /home/omorales/Documents/projects/python/machinelearning/machinelearning/lib/python3.6/site-packages (7.12.0)\nCollecting scikit-learn\n  Downloading scikit_learn-0.22.1-cp36-cp36m-manylinux1_x86_64.whl (7.0 MB)\n\u001b[K     |████████████████████████████████| 7.0 MB 4.6 MB/s \n\u001b[?25hCollecting pandas\n  Downloading pandas-1.0.1-cp36-cp36m-manylinux1_x86_64.whl (10.1 MB)\n\u001b[K     |████████████████████████████████| 10.1 MB 435 kB/s \n\u001b[?25hCollecting pillow\n  Downloading Pillow-7.0.0-cp36-cp36m-manylinux1_x86_64.whl (2.1 MB)\n\u001b[K     |████████████████████████████████| 2.1 MB 5.5 MB/s \n\u001b[?25hCollecting mglearn\n  Downloading mglearn-0.1.7.tar.gz (540 kB)\n\u001b[K     |████████████████████████████████| 540 kB 7.4 MB/s \n\u001b[?25hRequirement already satisfied: notebook in /home/omorales/Documents/projects/python/machinelearning/machinelearning/lib/python3.6/site-packages (from jupyter) (6.0.3)\nRequirement already satisfied: ipywidgets in /home/omorales/Documents/projects/python/machinelearning/machinelearning/lib/python3.6/site-packages (from jupyter) (7.5.1)\nRequirement already satisfied: qtconsole in /home/omorales/Documents/projects/python/machinelearning/machinelearning/lib/python3.6/site-packages (from jupyter) (4.6.0)\nRequirement already satisfied: nbconvert in /home/omorales/Documents/projects/python/machinelearning/machinelearning/lib/python3.6/site-packages (from jupyter) (5.6.1)\nRequirement already satisfied: ipykernel in /home/omorales/Documents/projects/python/machinelearning/machinelearning/lib/python3.6/site-packages (from jupyter) (5.1.4)\nRequirement already satisfied: jupyter-console in /home/omorales/Documents/projects/python/machinelearning/machinelearning/lib/python3.6/site-packages (from jupyter) (6.1.0)\nRequirement already satisfied: python-dateutil>=2.1 in /home/omorales/Documents/projects/python/machinelearning/machinelearning/lib/python3.6/site-packages (from matplotlib) (2.8.1)\nCollecting cycler>=0.10\n  Downloading cycler-0.10.0-py2.py3-none-any.whl (6.5 kB)\nCollecting kiwisolver>=1.0.1\n  Downloading kiwisolver-1.1.0-cp36-cp36m-manylinux1_x86_64.whl (90 kB)\n\u001b[K     |████████████████████████████████| 90 kB 3.6 MB/s \n\u001b[?25hCollecting pyparsing!=2.0.4,!=2.1.2,!=2.1.6,>=2.0.1\n  Downloading pyparsing-2.4.6-py2.py3-none-any.whl (67 kB)\n\u001b[K     |████████████████████████████████| 67 kB 2.7 MB/s \n\u001b[?25hRequirement already satisfied: pickleshare in /home/omorales/Documents/projects/python/machinelearning/machinelearning/lib/python3.6/site-packages (from ipython) (0.7.5)\nRequirement already satisfied: traitlets>=4.2 in /home/omorales/Documents/projects/python/machinelearning/machinelearning/lib/python3.6/site-packages (from ipython) (4.3.3)\nRequirement already satisfied: setuptools>=18.5 in /home/omorales/Documents/projects/python/machinelearning/machinelearning/lib/python3.6/site-packages (from ipython) (45.2.0)\nRequirement already satisfied: jedi>=0.10 in /home/omorales/Documents/projects/python/machinelearning/machinelearning/lib/python3.6/site-packages (from ipython) (0.16.0)\nRequirement already satisfied: backcall in /home/omorales/Documents/projects/python/machinelearning/machinelearning/lib/python3.6/site-packages (from ipython) (0.1.0)\nRequirement already satisfied: prompt-toolkit!=3.0.0,!=3.0.1,<3.1.0,>=2.0.0 in /home/omorales/Documents/projects/python/machinelearning/machinelearning/lib/python3.6/site-packages (from ipython) (3.0.3)\nRequirement already satisfied: decorator in /home/omorales/Documents/projects/python/machinelearning/machinelearning/lib/python3.6/site-packages (from ipython) (4.4.1)\nRequirement already satisfied: pexpect; sys_platform != \"win32\" in /home/omorales/Documents/projects/python/machinelearning/machinelearning/lib/python3.6/site-packages (from ipython) (4.8.0)\nRequirement already satisfied: pygments in /home/omorales/Documents/projects/python/machinelearning/machinelearning/lib/python3.6/site-packages (from ipython) (2.5.2)\nCollecting joblib>=0.11\n  Downloading joblib-0.14.1-py2.py3-none-any.whl (294 kB)\n\u001b[K     |████████████████████████████████| 294 kB 8.6 MB/s \n\u001b[?25hCollecting pytz>=2017.2\n  Downloading pytz-2019.3-py2.py3-none-any.whl (509 kB)\n\u001b[K     |████████████████████████████████| 509 kB 7.7 MB/s \n\u001b[?25hCollecting imageio\n  Downloading imageio-2.6.1-py3-none-any.whl (3.3 MB)\n\u001b[K     |████████████████████████████████| 3.3 MB 7.4 MB/s \n\u001b[?25hRequirement already satisfied: Send2Trash in /home/omorales/Documents/projects/python/machinelearning/machinelearning/lib/python3.6/site-packages (from notebook->jupyter) (1.5.0)\nRequirement already satisfied: jinja2 in /home/omorales/Documents/projects/python/machinelearning/machinelearning/lib/python3.6/site-packages (from notebook->jupyter) (2.11.1)\nRequirement already satisfied: nbformat in /home/omorales/Documents/projects/python/machinelearning/machinelearning/lib/python3.6/site-packages (from notebook->jupyter) (5.0.4)\nRequirement already satisfied: prometheus-client in /home/omorales/Documents/projects/python/machinelearning/machinelearning/lib/python3.6/site-packages (from notebook->jupyter) (0.7.1)\nRequirement already satisfied: ipython-genutils in /home/omorales/Documents/projects/python/machinelearning/machinelearning/lib/python3.6/site-packages (from notebook->jupyter) (0.2.0)\nRequirement already satisfied: pyzmq>=17 in /home/omorales/Documents/projects/python/machinelearning/machinelearning/lib/python3.6/site-packages (from notebook->jupyter) (18.1.1)\nRequirement already satisfied: jupyter-client>=5.3.4 in /home/omorales/Documents/projects/python/machinelearning/machinelearning/lib/python3.6/site-packages (from notebook->jupyter) (5.3.4)\nRequirement already satisfied: terminado>=0.8.1 in /home/omorales/Documents/projects/python/machinelearning/machinelearning/lib/python3.6/site-packages (from notebook->jupyter) (0.8.3)\nRequirement already satisfied: jupyter-core>=4.6.1 in /home/omorales/Documents/projects/python/machinelearning/machinelearning/lib/python3.6/site-packages (from notebook->jupyter) (4.6.2)\nRequirement already satisfied: tornado>=5.0 in /home/omorales/Documents/projects/python/machinelearning/machinelearning/lib/python3.6/site-packages (from notebook->jupyter) (6.0.3)\nRequirement already satisfied: widgetsnbextension~=3.5.0 in /home/omorales/Documents/projects/python/machinelearning/machinelearning/lib/python3.6/site-packages (from ipywidgets->jupyter) (3.5.1)\nRequirement already satisfied: pandocfilters>=1.4.1 in /home/omorales/Documents/projects/python/machinelearning/machinelearning/lib/python3.6/site-packages (from nbconvert->jupyter) (1.4.2)\nRequirement already satisfied: defusedxml in /home/omorales/Documents/projects/python/machinelearning/machinelearning/lib/python3.6/site-packages (from nbconvert->jupyter) (0.6.0)\nRequirement already satisfied: bleach in /home/omorales/Documents/projects/python/machinelearning/machinelearning/lib/python3.6/site-packages (from nbconvert->jupyter) (3.1.0)\nRequirement already satisfied: mistune<2,>=0.8.1 in /home/omorales/Documents/projects/python/machinelearning/machinelearning/lib/python3.6/site-packages (from nbconvert->jupyter) (0.8.4)\nRequirement already satisfied: testpath in /home/omorales/Documents/projects/python/machinelearning/machinelearning/lib/python3.6/site-packages (from nbconvert->jupyter) (0.4.4)\nRequirement already satisfied: entrypoints>=0.2.2 in /home/omorales/Documents/projects/python/machinelearning/machinelearning/lib/python3.6/site-packages (from nbconvert->jupyter) (0.3)\nRequirement already satisfied: six>=1.5 in /home/omorales/Documents/projects/python/machinelearning/machinelearning/lib/python3.6/site-packages (from python-dateutil>=2.1->matplotlib) (1.14.0)\nRequirement already satisfied: parso>=0.5.2 in /home/omorales/Documents/projects/python/machinelearning/machinelearning/lib/python3.6/site-packages (from jedi>=0.10->ipython) (0.6.1)\nRequirement already satisfied: wcwidth in /home/omorales/Documents/projects/python/machinelearning/machinelearning/lib/python3.6/site-packages (from prompt-toolkit!=3.0.0,!=3.0.1,<3.1.0,>=2.0.0->ipython) (0.1.8)\nRequirement already satisfied: ptyprocess>=0.5 in /home/omorales/Documents/projects/python/machinelearning/machinelearning/lib/python3.6/site-packages (from pexpect; sys_platform != \"win32\"->ipython) (0.6.0)\nRequirement already satisfied: MarkupSafe>=0.23 in /home/omorales/Documents/projects/python/machinelearning/machinelearning/lib/python3.6/site-packages (from jinja2->notebook->jupyter) (1.1.1)\nRequirement already satisfied: jsonschema!=2.5.0,>=2.4 in /home/omorales/Documents/projects/python/machinelearning/machinelearning/lib/python3.6/site-packages (from nbformat->notebook->jupyter) (3.2.0)\nRequirement already satisfied: webencodings in /home/omorales/Documents/projects/python/machinelearning/machinelearning/lib/python3.6/site-packages (from bleach->nbconvert->jupyter) (0.5.1)\nRequirement already satisfied: pyrsistent>=0.14.0 in /home/omorales/Documents/projects/python/machinelearning/machinelearning/lib/python3.6/site-packages (from jsonschema!=2.5.0,>=2.4->nbformat->notebook->jupyter) (0.15.7)\nRequirement already satisfied: importlib-metadata; python_version < \"3.8\" in /home/omorales/Documents/projects/python/machinelearning/machinelearning/lib/python3.6/site-packages (from jsonschema!=2.5.0,>=2.4->nbformat->notebook->jupyter) (1.5.0)\nRequirement already satisfied: attrs>=17.4.0 in /home/omorales/Documents/projects/python/machinelearning/machinelearning/lib/python3.6/site-packages (from jsonschema!=2.5.0,>=2.4->nbformat->notebook->jupyter) (19.3.0)\nRequirement already satisfied: zipp>=0.5 in /home/omorales/Documents/projects/python/machinelearning/machinelearning/lib/python3.6/site-packages (from importlib-metadata; python_version < \"3.8\"->jsonschema!=2.5.0,>=2.4->nbformat->notebook->jupyter) (2.2.0)\nBuilding wheels for collected packages: mglearn\n  Building wheel for mglearn (setup.py) ... \u001b[?25ldone\n\u001b[?25h  Created wheel for mglearn: filename=mglearn-0.1.7-py2.py3-none-any.whl size=582705 sha256=cf7b3df5988fce00ef1f6817cad4957082d35fc4ae7a9dad2a158036f096c824\n  Stored in directory: /home/omorales/snap/code/common/.cache/pip/wheels/c6/d9/a3/bf4db47b6a1f236ee90f8b9e8a3390c941af607a8bf6e70f0f\nSuccessfully built mglearn\nInstalling collected packages: numpy, scipy, cycler, kiwisolver, pyparsing, matplotlib, joblib, scikit-learn, pytz, pandas, pillow, imageio, mglearn\nSuccessfully installed cycler-0.10.0 imageio-2.6.1 joblib-0.14.1 kiwisolver-1.1.0 matplotlib-3.1.3 mglearn-0.1.7 numpy-1.18.1 pandas-1.0.1 pillow-7.0.0 pyparsing-2.4.6 pytz-2019.3 scikit-learn-0.22.1 scipy-1.4.1\nNote: you may need to restart the kernel to use updated packages.\n"
    }
   ],
   "source": [
    "pip install jupyter numpy scipy matplotlib ipython scikit-learn pandas pillow mglearn"
   ]
  },
  {
   "cell_type": "markdown",
   "execution_count": null,
   "metadata": {},
   "outputs": [],
   "source": [
    "# Supervised Learning\n",
    "- Is one of the most commonly used types of machine Learning.\n",
    "- Is used when we want to to predict a certain outcome from a given input, and we have examples ofinput/output pairs.\n",
    "- Using the input/output pairs we can build a ML model (training set).\n",
    "- The goal is to make accurate predictions for new (never-before-seen) data.\n",
    "- We can say that the a supervised learning model is able to *generalize* from the training set to the test set if it's able to make accurate predictions on unseen data.\n",
    "- We always want to find the simplest model.\n",
    "- *Overfitting*: build a model that is too complex for the amount of data we have.\n",
    "- *Underfitting*: Choosing too simple a model\n",
    "\n",
    "The two major types of supervised ML problems are *classification* and *regresion*.\n",
    "\n",
    "### Classification tasks\n",
    "- The goal is to predict a *class label* (a choice from predefined list of posibilities)\n",
    "- Often separated into *binary classification* (distinguishing between exactly two classes) and *multiclass classification* (classification between more than two classes).\n",
    "\n",
    "### Regression tasks\n",
    "- The goal is to predict a continous number (floating-point number)\n",
    "\n",
    "### Model Complexity - Dataset Size Relation\n",
    "- The larger variety of data points the dataset contains, the more complex a model you can use.\n",
    "- However, simply duplicating the same datapoints or collecting very similar data will not help.\n",
    " "
   ]
  },
  {
   "cell_type": "markdown",
   "execution_count": 2,
   "metadata": {},
   "outputs": [],
   "source": [
    "## Supervised ML Algorithms\n"
   ]
  },
  {
   "cell_type": "code",
   "execution_count": 5,
   "metadata": {},
   "outputs": [
    {
     "name": "stderr",
     "output_type": "stream",
     "text": "/home/omorales/Documents/projects/python/machinelearning/machinelearning/lib/python3.6/site-packages/sklearn/externals/six.py:31: FutureWarning: The module is deprecated in version 0.21 and will be removed in version 0.23 since we've dropped support for Python 2.7. Please rely on the official version of six (https://pypi.org/project/six/).\n  \"(https://pypi.org/project/six/).\", FutureWarning)\n/home/omorales/Documents/projects/python/machinelearning/machinelearning/lib/python3.6/site-packages/sklearn/externals/joblib/__init__.py:15: FutureWarning: sklearn.externals.joblib is deprecated in 0.21 and will be removed in 0.23. Please import this functionality directly from joblib, which can be installed with: pip install joblib. If this warning is raised when loading pickled models, you may need to re-serialize those models with scikit-learn 0.21+.\n  warnings.warn(msg, category=FutureWarning)\n"
    }
   ],
   "source": [
    "import numpy as np\n",
    "from scipy import sparse\n",
    "import matplotlib.pyplot as plt\n",
    "import pandas as pd\n",
    "import mglearn\n",
    "from IPython.display import display\n",
    "import sklearn"
   ]
  },
  {
   "cell_type": "markdown",
   "execution_count": 6,
   "metadata": {},
   "outputs": [],
   "source": [
    "## Sample datasets"
   ]
  },
  {
   "cell_type": "code",
   "execution_count": 8,
   "metadata": {},
   "outputs": [
    {
     "name": "stderr",
     "output_type": "stream",
     "text": "/home/omorales/Documents/projects/python/machinelearning/machinelearning/lib/python3.6/site-packages/sklearn/utils/deprecation.py:87: FutureWarning: Function make_blobs is deprecated; Please import make_blobs directly from scikit-learn\n  warnings.warn(msg, category=FutureWarning)\nX.shape: (26, 2)\n"
    },
    {
     "data": {
      "image/png": "[encoded data removed]",
      "text/plain": "<Figure size 432x288 with 1 Axes>"
     },
     "metadata": {
      "needs_background": "light"
     },
     "output_type": "display_data"
    }
   ],
   "source": [
    "# forge dataset for two-class classification\n",
    "# generate dataset\n",
    "X, y = mglearn.datasets.make_forge()\n",
    "#plot\n",
    "mglearn.discrete_scatter(X[:, 0], X[:, 1], y)\n",
    "plt.legend([\"Class 0\", \"Class 1\"], loc=4)\n",
    "plt.xlabel(\"First feature\")\n",
    "plt.ylabel(\"Second feature\")\n",
    "print(\"X.shape: {}\".format(X.shape))"
   ]
  },
  {
   "cell_type": "code",
   "execution_count": 9,
   "metadata": {},
   "outputs": [],
   "source": [
    "# 26 datapoints, with two features"
   ]
  },
  {
   "cell_type": "code",
   "execution_count": 10,
   "metadata": {},
   "outputs": [
    {
     "data": {
      "text/plain": "Text(0, 0.5, 'Target')"
     },
     "execution_count": 10,
     "metadata": {},
     "output_type": "execute_result"
    },
    {
     "data": {
      "image/png": "[encoded data removed]",
      "text/plain": "<Figure size 432x288 with 1 Axes>"
     },
     "metadata": {
      "needs_background": "light"
     },
     "output_type": "display_data"
    }
   ],
   "source": [
    "# to illustrate regression algorithms,we will use the wave dataset, it has a single input feature and a continous target variable (or response) that we want to model\n",
    "X, y = mglearn.datasets.make_wave(n_samples=40)\n",
    "plt.plot(X,y,'o')\n",
    "plt.xlabel(\"Feature\")\n",
    "plt.ylabel(\"Target\")"
   ]
  },
  {
   "cell_type": "code",
   "execution_count": 11,
   "metadata": {},
   "outputs": [
    {
     "name": "stdout",
     "output_type": "stream",
     "text": "cancer.keys(): \ndict_keys(['data', 'target', 'target_names', 'DESCR', 'feature_names', 'filename'])\n"
    }
   ],
   "source": [
    "# Wisconsin Breast Cancer dataset\n",
    "#records clinical measurements of breast cancer tumors, each tumor is labeled as beningn or malignant\n",
    "# the task is to predict wheter a tumor is malignant based on the measurements of the tissue\n",
    "\n",
    "from sklearn.datasets import load_breast_cancer\n",
    "cancer = load_breast_cancer()\n",
    "print(\"cancer.keys(): \\n{}\".format(cancer.keys()))"
   ]
  },
  {
   "cell_type": "code",
   "execution_count": 12,
   "metadata": {},
   "outputs": [
    {
     "name": "stdout",
     "output_type": "stream",
     "text": "Shape of cancer data: (569, 30)\n"
    }
   ],
   "source": [
    "print(\"Shape of cancer data: {}\".format(cancer.data.shape))"
   ]
  },
  {
   "cell_type": "code",
   "execution_count": 15,
   "metadata": {},
   "outputs": [
    {
     "name": "stdout",
     "output_type": "stream",
     "text": "Sample counts per class:\n{'malignant': 212, 'benign': 357}\n"
    }
   ],
   "source": [
    "print(\"Sample counts per class:\\n{}\".format({n: v for n, v in zip(cancer.target_names, np.bincount(cancer.target))}))"
   ]
  },
  {
   "cell_type": "code",
   "execution_count": 16,
   "metadata": {},
   "outputs": [
    {
     "name": "stdout",
     "output_type": "stream",
     "text": "Feature names:\n['mean radius' 'mean texture' 'mean perimeter' 'mean area'\n 'mean smoothness' 'mean compactness' 'mean concavity'\n 'mean concave points' 'mean symmetry' 'mean fractal dimension'\n 'radius error' 'texture error' 'perimeter error' 'area error'\n 'smoothness error' 'compactness error' 'concavity error'\n 'concave points error' 'symmetry error' 'fractal dimension error'\n 'worst radius' 'worst texture' 'worst perimeter' 'worst area'\n 'worst smoothness' 'worst compactness' 'worst concavity'\n 'worst concave points' 'worst symmetry' 'worst fractal dimension']\n"
    }
   ],
   "source": [
    "print(\"Feature names:\\n{}\".format(cancer.feature_names))"
   ]
  },
  {
   "cell_type": "code",
   "execution_count": 18,
   "metadata": {},
   "outputs": [
    {
     "name": "stdout",
     "output_type": "stream",
     "text": "Data shape: (506, 13)\n"
    }
   ],
   "source": [
    "# Boston housing dataset\n",
    "# predict the median value of homes in several Boston neighborhoodws in 1970s, using info such as crime rate , proximity to Charles River, highway accessibility, etc\n",
    "from sklearn.datasets import load_boston\n",
    "boston = load_boston()\n",
    "print(\"Data shape: {}\".format(boston.data.shape))"
   ]
  },
  {
   "cell_type": "code",
   "execution_count": 19,
   "metadata": {},
   "outputs": [
    {
     "name": "stdout",
     "output_type": "stream",
     "text": "X.shape: (506, 104)\n"
    }
   ],
   "source": [
    "X, y = mglearn.datasets.load_extended_boston()\n",
    "print(\"X.shape: {}\".format(X.shape))"
   ]
  },
  {
   "cell_type": "code",
   "execution_count": null,
   "metadata": {},
   "outputs": [],
   "source": []
  }
 ]
}